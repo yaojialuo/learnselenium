{
 "cells": [
  {
   "cell_type": "code",
   "execution_count": 2,
   "metadata": {
    "ExecuteTime": {
     "end_time": "2021-06-05T08:54:25.266382Z",
     "start_time": "2021-06-05T08:54:25.098824Z"
    }
   },
   "outputs": [
    {
     "name": "stdout",
     "output_type": "stream",
     "text": [
      "The autoreload extension is already loaded. To reload it, use:\n",
      "  %reload_ext autoreload\n"
     ]
    }
   ],
   "source": [
    "%load_ext autoreload\n",
    "%autoreload 2\n",
    "import pandas as pd\n",
    "import mycrawler as mc\n",
    "import datetime"
   ]
  },
  {
   "cell_type": "code",
   "execution_count": 4,
   "metadata": {
    "ExecuteTime": {
     "end_time": "2021-06-05T08:55:50.069795Z",
     "start_time": "2021-06-05T08:55:08.598473Z"
    }
   },
   "outputs": [
    {
     "name": "stdout",
     "output_type": "stream",
     "text": [
      "E:\\orderflow\\MarketCxd\\2021-06-05c002335bNoneeNone.csv\n",
      "getTodayMarketCxd: 0\n",
      "getTodayMarketCxd: 200\n",
      "getTodayMarketCxd: 200\n",
      "getTodayMarketCxd: 200\n"
     ]
    }
   ],
   "source": [
    "mc.getTodayMarketCxd(r\"E:\\orderflow\\MarketCxd\",btime=None,etime=None,code='002335',offset=0)"
   ]
  },
  {
   "cell_type": "code",
   "execution_count": 5,
   "metadata": {
    "ExecuteTime": {
     "end_time": "2021-06-07T01:59:07.367651Z",
     "start_time": "2021-06-07T01:59:07.155221Z"
    }
   },
   "outputs": [
    {
     "data": {
      "text/plain": [
       "216.37"
      ]
     },
     "execution_count": 5,
     "metadata": {},
     "output_type": "execute_result"
    }
   ],
   "source": [
    "84.37+132"
   ]
  },
  {
   "cell_type": "code",
   "execution_count": null,
   "metadata": {},
   "outputs": [],
   "source": []
  }
 ],
 "metadata": {
  "kernelspec": {
   "display_name": "Python 3",
   "language": "python",
   "name": "python3"
  },
  "language_info": {
   "codemirror_mode": {
    "name": "ipython",
    "version": 3
   },
   "file_extension": ".py",
   "mimetype": "text/x-python",
   "name": "python",
   "nbconvert_exporter": "python",
   "pygments_lexer": "ipython3",
   "version": "3.7.3"
  }
 },
 "nbformat": 4,
 "nbformat_minor": 2
}
