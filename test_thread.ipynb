{
 "cells": [
  {
   "cell_type": "code",
   "execution_count": 1,
   "metadata": {
    "ExecuteTime": {
     "end_time": "2021-06-30T06:00:12.791168Z",
     "start_time": "2021-06-30T06:00:12.773216Z"
    }
   },
   "outputs": [],
   "source": [
    "import threading\n",
    "import time\n",
    "print_lock = threading.Lock()\n",
    "def run():\n",
    "\n",
    "    time.sleep(2)\n",
    "    with print_lock:\n",
    "        print('当前线程的名字是： ', threading.current_thread().name)\n",
    "    time.sleep(2)"
   ]
  },
  {
   "cell_type": "code",
   "execution_count": 4,
   "metadata": {
    "ExecuteTime": {
     "end_time": "2021-06-30T06:01:26.362790Z",
     "start_time": "2021-06-30T06:01:22.299248Z"
    }
   },
   "outputs": [
    {
     "name": "stdout",
     "output_type": "stream",
     "text": [
      "这是主线程： MainThread\n",
      "当前线程的名字是：  Thread-11\n",
      "当前线程的名字是：  Thread-12\n",
      "当前线程的名字是：  Thread-13\n",
      "当前线程的名字是：  Thread-15\n",
      "当前线程的名字是：  Thread-14\n"
     ]
    }
   ],
   "source": [
    "start_time = time.time()\n",
    "\n",
    "print('这是主线程：', threading.current_thread().name)\n",
    "thread_list = []\n",
    "for i in range(5):\n",
    "    t = threading.Thread(target=run)\n",
    "    thread_list.append(t)\n",
    "\n",
    "for t in thread_list:\n",
    "    t.setDaemon(True)\n",
    "    t.start()\n",
    "\n",
    "for t in thread_list:\n",
    "    t.join()"
   ]
  },
  {
   "cell_type": "code",
   "execution_count": 1,
   "metadata": {
    "ExecuteTime": {
     "end_time": "2021-07-16T01:32:10.130170Z",
     "start_time": "2021-07-16T01:32:10.113214Z"
    }
   },
   "outputs": [],
   "source": [
    "import os"
   ]
  },
  {
   "cell_type": "code",
   "execution_count": 2,
   "metadata": {
    "ExecuteTime": {
     "end_time": "2021-07-16T01:32:16.081252Z",
     "start_time": "2021-07-16T01:32:16.063337Z"
    }
   },
   "outputs": [],
   "source": [
    "dates=\\\n",
    "            ['2021-04-27',\n",
    "            '2021-04-28',\n",
    "            '2021-04-29',\n",
    "            '2021-04-30',\n",
    "            '2021-05-06',\n",
    "            '2021-05-07',\n",
    "            '2021-05-10',\n",
    "            '2021-05-11',\n",
    "            '2021-05-12',\n",
    "            '2021-05-13',\n",
    "            '2021-05-14',\n",
    "            '2021-05-17',\n",
    "            '2021-05-18',\n",
    "            '2021-05-19',\n",
    "            '2021-05-20',\n",
    "            '2021-05-21',\n",
    "            '2021-05-24',\n",
    "            '2021-05-25',\n",
    "            '2021-05-26',\n",
    "            '2021-05-27',\n",
    "            '2021-05-28',\n",
    "            '2021-05-31',\n",
    "            '2021-06-01',\n",
    "            '2021-06-02',\n",
    "            '2021-06-03',\n",
    "            '2021-06-04',\n",
    "            '2021-06-07',\n",
    "            '2021-06-08',\n",
    "            '2021-06-09',\n",
    "            '2021-06-10',\n",
    "            '2021-06-11',\n",
    "            '2021-06-15',\n",
    "            '2021-06-16',\n",
    "            '2021-06-17',\n",
    "            '2021-06-18',\n",
    "            '2021-06-21',\n",
    "            '2021-06-22',\n",
    "            '2021-06-23',\n",
    "            '2021-06-24',\n",
    "            '2021-06-25',\n",
    "            '2021-06-28',\n",
    "            '2021-06-29',\n",
    "            '2021-06-30',\n",
    "            '2021-07-01',\n",
    "            '2021-07-02',\n",
    "            '2021-07-05',\n",
    "            '2021-07-06',\n",
    "            '2021-07-07',\n",
    "            '2021-07-08',\n",
    "            '2021-07-09',\n",
    "            '2021-07-12',\n",
    "            '2021-07-13',\n",
    "            '2021-07-14','2021-07-15']"
   ]
  },
  {
   "cell_type": "code",
   "execution_count": 9,
   "metadata": {
    "ExecuteTime": {
     "end_time": "2021-07-18T02:55:44.184476Z",
     "start_time": "2021-07-18T02:55:44.091724Z"
    }
   },
   "outputs": [
    {
     "name": "stdout",
     "output_type": "stream",
     "text": [
      "2021-07-06 : 361\n",
      "2021-07-05 : 361\n",
      "2021-07-02 : 361\n",
      "2021-07-01 : 361\n",
      "2021-06-30 : 358\n",
      "2021-06-29 : 357\n",
      "2021-06-28 : 355\n",
      "2021-06-25 : 355\n",
      "2021-06-24 : 355\n",
      "2021-06-23 : 355\n",
      "2021-06-22 : 354\n",
      "2021-06-21 : 354\n",
      "2021-06-18 : 354\n",
      "2021-06-17 : 353\n",
      "2021-06-16 : 353\n",
      "2021-06-15 : 354\n",
      "2021-06-11 : 355\n",
      "2021-06-10 : 354\n",
      "2021-06-09 : 354\n",
      "2021-06-08 : 354\n",
      "2021-06-07 : 354\n",
      "2021-06-04 : 354\n",
      "2021-06-03 : 354\n",
      "2021-06-02 : 353\n",
      "2021-06-01 : 353\n",
      "2021-05-31 : 352\n",
      "2021-05-28 : 351\n",
      "2021-05-27 : 350\n",
      "2021-05-26 : 350\n",
      "2021-05-25 : 350\n",
      "2021-05-24 : 351\n",
      "2021-05-21 : 350\n",
      "2021-05-20 : 350\n",
      "2021-05-19 : 350\n",
      "2021-05-18 : 350\n",
      "2021-05-17 : 350\n",
      "2021-05-14 : 350\n",
      "2021-05-13 : 349\n",
      "2021-05-12 : 348\n",
      "2021-05-11 : 346\n",
      "2021-05-10 : 346\n",
      "2021-05-07 : 346\n",
      "2021-05-06 : 344\n",
      "2021-04-30 : 344\n",
      "2021-04-29 : 343\n",
      "2021-04-28 : 344\n",
      "2021-04-27 : 344\n"
     ]
    }
   ],
   "source": [
    "for d in sorted(dates,reverse=True)[7:]:\n",
    "    print(d,\":\",len(os.listdir(r\"E:\\download_data\\\\\"+d)))"
   ]
  },
  {
   "cell_type": "code",
   "execution_count": null,
   "metadata": {},
   "outputs": [],
   "source": []
  }
 ],
 "metadata": {
  "kernelspec": {
   "display_name": "Python 3",
   "language": "python",
   "name": "python3"
  },
  "language_info": {
   "codemirror_mode": {
    "name": "ipython",
    "version": 3
   },
   "file_extension": ".py",
   "mimetype": "text/x-python",
   "name": "python",
   "nbconvert_exporter": "python",
   "pygments_lexer": "ipython3",
   "version": "3.7.3"
  }
 },
 "nbformat": 4,
 "nbformat_minor": 2
}
